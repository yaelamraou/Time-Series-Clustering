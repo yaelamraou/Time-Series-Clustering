{
 "cells": [
  {
   "cell_type": "code",
   "execution_count": 1,
   "metadata": {},
   "outputs": [],
   "source": [
    "import pandas as pd\n",
    "import numpy as np\n",
    "import matplotlib.pyplot as plt\n",
    "from sklearn.cluster import DBSCAN\n",
    "from sklearn.cluster import AgglomerativeClustering\n",
    "from sklearn.cluster import KMeans\n",
    "from scipy.cluster.hierarchy import dendrogram, linkage  \n",
    "from tslearn.barycenters import dtw_barycenter_averaging, softdtw_barycenter\n",
    "from tslearn.clustering import TimeSeriesKMeans\n",
    "from tslearn.piecewise import SymbolicAggregateApproximation\n",
    "from tslearn import metrics"
   ]
  },
  {
   "cell_type": "code",
   "execution_count": 2,
   "metadata": {},
   "outputs": [
    {
     "data": {
      "text/plain": [
       "array([[-1.2967 , -1.3337 , -1.3495 , ...,  0.81928,  0.81634,  0.79434],\n",
       "       [ 0.56421,  0.54512,  0.54205, ...,  0.57133,  0.58619,  0.59086],\n",
       "       [-2.1008 , -2.0882 , -2.0251 , ...,  0.54294,  0.54375,  0.54387],\n",
       "       ...,\n",
       "       [-1.2657 , -1.2381 , -1.2569 , ...,  0.90231,  0.87317,  0.84577],\n",
       "       [ 0.67424,  0.6995 ,  0.72477, ...,  0.68093,  0.61272,  0.6502 ],\n",
       "       [ 0.76816,  0.71678,  0.76064, ...,  0.76741,  0.75562,  0.67906]])"
      ]
     },
     "execution_count": 2,
     "metadata": {},
     "output_type": "execute_result"
    }
   ],
   "source": [
    "series = np.genfromtxt('series_trace_all.csv', delimiter=',')\n",
    "series"
   ]
  },
  {
   "cell_type": "code",
   "execution_count": 18,
   "metadata": {},
   "outputs": [],
   "source": [
    "dist_matrix = metrics.cdist_dtw(series, global_constraint='sakoe_chiba', sakoe_chiba_radius=50)"
   ]
  },
  {
   "cell_type": "code",
   "execution_count": 19,
   "metadata": {},
   "outputs": [
    {
     "data": {
      "text/plain": [
       "array([[ 0.        , 22.17143636,  5.26378797, ...,  1.36213258,\n",
       "        23.7406158 , 18.62524159],\n",
       "       [22.17143636,  0.        , 24.98459788, ..., 21.47237026,\n",
       "         0.76032881,  5.95987252],\n",
       "       [ 5.26378797, 24.98459788,  0.        , ...,  6.38916864,\n",
       "        25.12754792, 25.21994752],\n",
       "       ...,\n",
       "       [ 1.36213258, 21.47237026,  6.38916864, ...,  0.        ,\n",
       "        22.90785832, 18.21234353],\n",
       "       [23.7406158 ,  0.76032881, 25.12754792, ..., 22.90785832,\n",
       "         0.        ,  5.79872852],\n",
       "       [18.62524159,  5.95987252, 25.21994752, ..., 18.21234353,\n",
       "         5.79872852,  0.        ]])"
      ]
     },
     "execution_count": 19,
     "metadata": {},
     "output_type": "execute_result"
    }
   ],
   "source": [
    "dist_matrix"
   ]
  },
  {
   "cell_type": "code",
   "execution_count": 20,
   "metadata": {},
   "outputs": [],
   "source": [
    "np.savetxt(\"dist_matrix_trace_cdtw50.csv\", dist_matrix, delimiter=\",\")"
   ]
  }
 ],
 "metadata": {
  "kernelspec": {
   "display_name": "Python 3",
   "language": "python",
   "name": "python3"
  },
  "language_info": {
   "codemirror_mode": {
    "name": "ipython",
    "version": 3
   },
   "file_extension": ".py",
   "mimetype": "text/x-python",
   "name": "python",
   "nbconvert_exporter": "python",
   "pygments_lexer": "ipython3",
   "version": "3.7.0"
  }
 },
 "nbformat": 4,
 "nbformat_minor": 2
}

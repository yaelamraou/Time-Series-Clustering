{
 "cells": [
  {
   "cell_type": "code",
   "execution_count": 2,
   "metadata": {},
   "outputs": [],
   "source": [
    "%matplotlib inline"
   ]
  },
  {
   "cell_type": "markdown",
   "metadata": {},
   "source": [
    "\n",
    "k-means\n",
    "=======\n",
    "\n",
    "This example uses $k$-means clustering for time series. Three variants of the algorithm are available: standard\n",
    "Euclidean $k$-means, DBA-$k$-means (for DTW Barycenter Averaging) and Soft-DTW $k$-means.\n",
    "\n",
    "\n"
   ]
  },
  {
   "cell_type": "code",
   "execution_count": 35,
   "metadata": {},
   "outputs": [
    {
     "ename": "IndexError",
     "evalue": "boolean index did not match indexed array along dimension 0; dimension is 200 but corresponding boolean dimension is 100",
     "output_type": "error",
     "traceback": [
      "\u001b[1;31m---------------------------------------------------------------------------\u001b[0m",
      "\u001b[1;31mIndexError\u001b[0m                                Traceback (most recent call last)",
      "\u001b[1;32m<ipython-input-35-8681d110c797>\u001b[0m in \u001b[0;36m<module>\u001b[1;34m()\u001b[0m\n\u001b[0;32m     12\u001b[0m \u001b[0mX_train\u001b[0m\u001b[1;33m,\u001b[0m \u001b[0my_train\u001b[0m\u001b[1;33m,\u001b[0m \u001b[0mX_test\u001b[0m\u001b[1;33m,\u001b[0m \u001b[0my_test\u001b[0m \u001b[1;33m=\u001b[0m \u001b[0mCachedDatasets\u001b[0m\u001b[1;33m(\u001b[0m\u001b[1;33m)\u001b[0m\u001b[1;33m.\u001b[0m\u001b[0mload_dataset\u001b[0m\u001b[1;33m(\u001b[0m\u001b[1;34m\"Trace\"\u001b[0m\u001b[1;33m)\u001b[0m\u001b[1;33m\u001b[0m\u001b[0m\n\u001b[0;32m     13\u001b[0m \u001b[0mX_train\u001b[0m\u001b[1;33m=\u001b[0m\u001b[0mnp\u001b[0m\u001b[1;33m.\u001b[0m\u001b[0mvstack\u001b[0m\u001b[1;33m(\u001b[0m\u001b[1;33m(\u001b[0m\u001b[0mX_train\u001b[0m\u001b[1;33m,\u001b[0m\u001b[0mX_test\u001b[0m\u001b[1;33m)\u001b[0m\u001b[1;33m)\u001b[0m\u001b[1;33m\u001b[0m\u001b[0m\n\u001b[1;32m---> 14\u001b[1;33m \u001b[0mX_train\u001b[0m \u001b[1;33m=\u001b[0m \u001b[0mX_train\u001b[0m\u001b[1;33m[\u001b[0m\u001b[0my_train\u001b[0m \u001b[1;33m<\u001b[0m \u001b[1;36m5\u001b[0m \u001b[1;33m]\u001b[0m \u001b[1;31m# Keep first 3 classes$\u001b[0m\u001b[1;33m\u001b[0m\u001b[0m\n\u001b[0m\u001b[0;32m     15\u001b[0m \u001b[0mnumpy\u001b[0m\u001b[1;33m.\u001b[0m\u001b[0mrandom\u001b[0m\u001b[1;33m.\u001b[0m\u001b[0mshuffle\u001b[0m\u001b[1;33m(\u001b[0m\u001b[0mX_train\u001b[0m\u001b[1;33m)\u001b[0m\u001b[1;33m\u001b[0m\u001b[0m\n\u001b[0;32m     16\u001b[0m \u001b[0mX_train\u001b[0m \u001b[1;33m=\u001b[0m \u001b[0mTimeSeriesScalerMeanVariance\u001b[0m\u001b[1;33m(\u001b[0m\u001b[1;33m)\u001b[0m\u001b[1;33m.\u001b[0m\u001b[0mfit_transform\u001b[0m\u001b[1;33m(\u001b[0m\u001b[0mX_train\u001b[0m\u001b[1;33m[\u001b[0m\u001b[1;33m:\u001b[0m\u001b[1;36m100\u001b[0m\u001b[1;33m]\u001b[0m\u001b[1;33m)\u001b[0m  \u001b[1;31m# Keep only 50 time series\u001b[0m\u001b[1;33m\u001b[0m\u001b[0m\n",
      "\u001b[1;31mIndexError\u001b[0m: boolean index did not match indexed array along dimension 0; dimension is 200 but corresponding boolean dimension is 100"
     ]
    }
   ],
   "source": [
    "\n",
    "\n",
    "import numpy as np\n",
    "import matplotlib.pyplot as plt\n",
    "import pandas as pd\n",
    "from tslearn.clustering import TimeSeriesKMeans\n",
    "from tslearn.datasets import CachedDatasets\n",
    "from tslearn.preprocessing import TimeSeriesScalerMeanVariance, TimeSeriesResampler\n",
    "\n",
    "seed = 0\n",
    "numpy.random.seed(seed)\n",
    "X_train, y_train, X_test, y_test = CachedDatasets().load_dataset(\"Trace\")\n",
    "X_train\n",
    "X_train = X_train[y_train < 5 ] # Keep first 3 classes$\n",
    "numpy.random.shuffle(X_train)\n",
    "X_train = TimeSeriesScalerMeanVariance().fit_transform(X_train[:100])  # Keep only 50 time series\n",
    "X_train = TimeSeriesResampler(sz=40).fit_transform(X_train)  # Make time series shorter\n",
    "sz = X_train.shape[1]\n",
    "print (X_train.shape)\n",
    "plt.show()\n",
    "for elem in X_train:\n",
    "    df=pd.DataFrame(elem)\n",
    "    plt.plot(df)\n",
    "    \n",
    "plt.show()"
   ]
  },
  {
   "cell_type": "code",
   "execution_count": 39,
   "metadata": {},
   "outputs": [
    {
     "data": {
      "text/plain": [
       "array([[[ 0.54407],\n",
       "        [ 0.65786],\n",
       "        [ 0.61124],\n",
       "        ...,\n",
       "        [ 0.60377],\n",
       "        [ 0.59633],\n",
       "        [ 0.58322]],\n",
       "\n",
       "       [[ 0.76643],\n",
       "        [ 0.62463],\n",
       "        [ 0.74225],\n",
       "        ...,\n",
       "        [ 0.72218],\n",
       "        [ 0.66786],\n",
       "        [ 0.72445]],\n",
       "\n",
       "       [[-2.045  ],\n",
       "        [-2.0917 ],\n",
       "        [-2.0776 ],\n",
       "        ...,\n",
       "        [ 0.52429],\n",
       "        [ 0.54742],\n",
       "        [ 0.57056]],\n",
       "\n",
       "       ...,\n",
       "\n",
       "       [[ 0.80689],\n",
       "        [ 0.81192],\n",
       "        [ 0.8078 ],\n",
       "        ...,\n",
       "        [ 0.76162],\n",
       "        [ 0.83456],\n",
       "        [ 0.75248]],\n",
       "\n",
       "       [[-1.9341 ],\n",
       "        [-1.9663 ],\n",
       "        [-1.9511 ],\n",
       "        ...,\n",
       "        [ 0.54292],\n",
       "        [ 0.58843],\n",
       "        [ 0.53418]],\n",
       "\n",
       "       [[-1.4311 ],\n",
       "        [-1.455  ],\n",
       "        [-1.4689 ],\n",
       "        ...,\n",
       "        [ 0.7409 ],\n",
       "        [ 0.7651 ],\n",
       "        [ 0.77887]]])"
      ]
     },
     "execution_count": 39,
     "metadata": {},
     "output_type": "execute_result"
    }
   ],
   "source": [
    "X_train\n"
   ]
  },
  {
   "cell_type": "code",
   "execution_count": 30,
   "metadata": {},
   "outputs": [
    {
     "name": "stdout",
     "output_type": "stream",
     "text": [
      "Euclidean k-means\n",
      "10.146 --> 5.552 --> 5.524 --> 5.511 --> 5.511 --> \n"
     ]
    },
    {
     "data": {
      "image/png": "[encoded data removed]",
      "text/plain": [
       "<Figure size 432x288 with 4 Axes>"
      ]
     },
     "metadata": {},
     "output_type": "display_data"
    }
   ],
   "source": [
    "sz = X_train.shape[1]\n",
    "\n",
    "# Euclidean k-means\n",
    "print(\"Euclidean k-means\")\n",
    "km = TimeSeriesKMeans(n_clusters=4, verbose=True, random_state=seed)\n",
    "y_pred = km.fit_predict(X_train)\n",
    "plt.figure()\n",
    "for yi in range(4):\n",
    "    plt.subplot(4, 4, yi + 1)\n",
    "    for xx in X_train[y_pred == yi]:\n",
    "        plt.plot(xx.ravel(), \"y-\", alpha=.2)\n",
    "    plt.plot(km.cluster_centers_[yi].ravel(), \"r-\")\n",
    "    plt.xlim(0, sz)\n",
    "    plt.ylim(-4, 4)\n",
    "    if yi == 1:\n",
    "        plt.title(\"Euclidean $k$-means\")\n",
    "\n",
    "\n"
   ]
  },
  {
   "cell_type": "code",
   "execution_count": 19,
   "metadata": {},
   "outputs": [
    {
     "name": "stdout",
     "output_type": "stream",
     "text": [
      "DBA k-means\n",
      "Init 1\n",
      "1.617 --> 0.540 --> 0.506 --> 0.473 --> 0.468 --> 0.468 --> \n"
     ]
    },
    {
     "data": {
      "image/png": "[encoded data removed]",
      "text/plain": [
       "<Figure size 432x288 with 4 Axes>"
      ]
     },
     "metadata": {},
     "output_type": "display_data"
    }
   ],
   "source": [
    "# DBA-k-means\n",
    "print(\"DBA k-means\")\n",
    "dba_km = TimeSeriesKMeans(n_clusters=4, n_init=2, metric=\"dtw\", verbose=True, max_iter_barycenter=10, random_state=seed)\n",
    "y_pred = dba_km.fit_predict(X_train)\n",
    "for yi in range(4):\n",
    "    plt.subplot(3, 3, 1 + yi)\n",
    "    for xx in X_train[y_pred == yi]:\n",
    "        plt.plot(xx.ravel(), \"b-\", alpha=.2)\n",
    "    plt.plot(dba_km.cluster_centers_[yi].ravel(), \"r-\")\n",
    "    plt.xlim(0, sz)\n",
    "    plt.ylim(-4, 4)\n",
    "    if yi == 1:\n",
    "        plt.title(\"DBA $k$-means\")\n",
    "\n"
   ]
  },
  {
   "cell_type": "code",
   "execution_count": 20,
   "metadata": {
    "scrolled": true
   },
   "outputs": [
    {
     "name": "stdout",
     "output_type": "stream",
     "text": [
      "Soft-DTW k-means\n",
      "4.817 --> 0.257 --> 0.197 --> 0.189 --> 0.185 --> 0.185 --> 0.185 --> 0.185 --> 0.185 --> 0.185 --> 0.185 --> 0.185 --> 0.185 --> 0.185 --> 0.185 --> 0.185 --> 0.185 --> 0.185 --> 0.185 --> 0.185 --> 0.185 --> 0.185 --> 0.185 --> 0.185 --> 0.185 --> 0.185 --> 0.185 --> 0.185 --> 0.185 --> 0.185 --> 0.185 --> 0.185 --> 0.185 --> 0.185 --> 0.185 --> 0.185 --> 0.185 --> 0.185 --> 0.185 --> 0.185 --> 0.185 --> 0.185 --> 0.185 --> 0.185 --> 0.185 --> 0.185 --> 0.185 --> 0.185 --> 0.185 --> 0.185 --> \n"
     ]
    },
    {
     "data": {
      "image/png": "[encoded data removed]",
      "text/plain": [
       "<Figure size 432x288 with 4 Axes>"
      ]
     },
     "metadata": {},
     "output_type": "display_data"
    }
   ],
   "source": [
    "# Soft-DTW-k-means\n",
    "print(\"Soft-DTW k-means\")\n",
    "sdtw_km = TimeSeriesKMeans(n_clusters=4, metric=\"softdtw\", metric_params={\"gamma_sdtw\": .01},\n",
    "                           verbose=True, random_state=seed)\n",
    "y_pred = sdtw_km.fit_predict(X_train) \n",
    "\n",
    "for yi in range(4):\n",
    "    plt.subplot(3, 3, 1 + yi)\n",
    "    for xx in X_train[y_pred == yi]:\n",
    "        plt.plot(xx.ravel(), \"k-\", alpha=.2)\n",
    "    plt.plot(sdtw_km.cluster_centers_[yi].ravel(), \"r-\")\n",
    "    plt.xlim(0, sz)\n",
    "    plt.ylim(-4, 4)\n",
    "    if yi == 1:\n",
    "        plt.title(\"Soft-DTW $k$-means\")\n"
   ]
  },
  {
   "cell_type": "code",
   "execution_count": null,
   "metadata": {
    "scrolled": true
   },
   "outputs": [],
   "source": []
  },
  {
   "cell_type": "code",
   "execution_count": null,
   "metadata": {},
   "outputs": [],
   "source": [
    "print ( X_train.shape)"
   ]
  },
  {
   "cell_type": "code",
   "execution_count": 1,
   "metadata": {},
   "outputs": [],
   "source": [
    "import os"
   ]
  },
  {
   "cell_type": "code",
   "execution_count": 40,
   "metadata": {},
   "outputs": [],
   "source": [
    "ECGI = pd.read_csv(\"C:/Users/ELAM/AtrialFibrilationDimension1_TEST.csv\")"
   ]
  },
  {
   "cell_type": "code",
   "execution_count": 42,
   "metadata": {
    "scrolled": true
   },
   "outputs": [],
   "source": [
    "ECG=ECGI.drop(columns=['target'])"
   ]
  },
  {
   "cell_type": "code",
   "execution_count": 44,
   "metadata": {},
   "outputs": [
    {
     "data": {
      "text/html": [
       "<div>\n",
       "<style scoped>\n",
       "    .dataframe tbody tr th:only-of-type {\n",
       "        vertical-align: middle;\n",
       "    }\n",
       "\n",
       "    .dataframe tbody tr th {\n",
       "        vertical-align: top;\n",
       "    }\n",
       "\n",
       "    .dataframe thead th {\n",
       "        text-align: right;\n",
       "    }\n",
       "</style>\n",
       "<table border=\"1\" class=\"dataframe\">\n",
       "  <thead>\n",
       "    <tr style=\"text-align: right;\">\n",
       "      <th></th>\n",
       "      <th>channel_0_0</th>\n",
       "      <th>channel_0_1</th>\n",
       "      <th>channel_0_2</th>\n",
       "      <th>channel_0_3</th>\n",
       "      <th>channel_0_4</th>\n",
       "      <th>channel_0_5</th>\n",
       "      <th>channel_0_6</th>\n",
       "      <th>channel_0_7</th>\n",
       "      <th>channel_0_8</th>\n",
       "      <th>channel_0_9</th>\n",
       "      <th>...</th>\n",
       "      <th>channel_0_630</th>\n",
       "      <th>channel_0_631</th>\n",
       "      <th>channel_0_632</th>\n",
       "      <th>channel_0_633</th>\n",
       "      <th>channel_0_634</th>\n",
       "      <th>channel_0_635</th>\n",
       "      <th>channel_0_636</th>\n",
       "      <th>channel_0_637</th>\n",
       "      <th>channel_0_638</th>\n",
       "      <th>channel_0_639</th>\n",
       "    </tr>\n",
       "  </thead>\n",
       "  <tbody>\n",
       "    <tr>\n",
       "      <th>0</th>\n",
       "      <td>0.41990</td>\n",
       "      <td>0.35568</td>\n",
       "      <td>0.25688</td>\n",
       "      <td>0.18278</td>\n",
       "      <td>0.12844</td>\n",
       "      <td>0.06916</td>\n",
       "      <td>0.02470</td>\n",
       "      <td>0.00000</td>\n",
       "      <td>-0.00494</td>\n",
       "      <td>-0.00988</td>\n",
       "      <td>...</td>\n",
       "      <td>0.00494</td>\n",
       "      <td>0.33592</td>\n",
       "      <td>0.87932</td>\n",
       "      <td>0.85462</td>\n",
       "      <td>0.30134</td>\n",
       "      <td>-0.01482</td>\n",
       "      <td>0.00000</td>\n",
       "      <td>0.04940</td>\n",
       "      <td>0.02964</td>\n",
       "      <td>0.00000</td>\n",
       "    </tr>\n",
       "    <tr>\n",
       "      <th>1</th>\n",
       "      <td>-0.02470</td>\n",
       "      <td>-0.01976</td>\n",
       "      <td>-0.03952</td>\n",
       "      <td>-0.03458</td>\n",
       "      <td>-0.03458</td>\n",
       "      <td>-0.03952</td>\n",
       "      <td>-0.04940</td>\n",
       "      <td>-0.03458</td>\n",
       "      <td>-0.03458</td>\n",
       "      <td>-0.04940</td>\n",
       "      <td>...</td>\n",
       "      <td>-0.08398</td>\n",
       "      <td>-0.09386</td>\n",
       "      <td>-0.09386</td>\n",
       "      <td>-0.06916</td>\n",
       "      <td>-0.09880</td>\n",
       "      <td>-0.07904</td>\n",
       "      <td>-0.08398</td>\n",
       "      <td>-0.07904</td>\n",
       "      <td>-0.09880</td>\n",
       "      <td>-0.07904</td>\n",
       "    </tr>\n",
       "    <tr>\n",
       "      <th>2</th>\n",
       "      <td>-0.02964</td>\n",
       "      <td>0.01482</td>\n",
       "      <td>0.00988</td>\n",
       "      <td>0.04446</td>\n",
       "      <td>0.05928</td>\n",
       "      <td>0.07904</td>\n",
       "      <td>0.09386</td>\n",
       "      <td>0.11856</td>\n",
       "      <td>0.13338</td>\n",
       "      <td>0.14820</td>\n",
       "      <td>...</td>\n",
       "      <td>0.05928</td>\n",
       "      <td>0.08398</td>\n",
       "      <td>0.08892</td>\n",
       "      <td>0.12844</td>\n",
       "      <td>0.12350</td>\n",
       "      <td>0.12350</td>\n",
       "      <td>0.10868</td>\n",
       "      <td>0.07904</td>\n",
       "      <td>0.04940</td>\n",
       "      <td>0.02470</td>\n",
       "    </tr>\n",
       "    <tr>\n",
       "      <th>3</th>\n",
       "      <td>-0.06422</td>\n",
       "      <td>-0.04446</td>\n",
       "      <td>-0.06422</td>\n",
       "      <td>-0.08398</td>\n",
       "      <td>-0.08892</td>\n",
       "      <td>-0.12350</td>\n",
       "      <td>-0.08892</td>\n",
       "      <td>-0.10374</td>\n",
       "      <td>-0.06422</td>\n",
       "      <td>-0.09386</td>\n",
       "      <td>...</td>\n",
       "      <td>-0.18278</td>\n",
       "      <td>-0.11856</td>\n",
       "      <td>-0.14326</td>\n",
       "      <td>-0.11362</td>\n",
       "      <td>-0.11856</td>\n",
       "      <td>-0.05434</td>\n",
       "      <td>-0.08398</td>\n",
       "      <td>-0.03952</td>\n",
       "      <td>-0.04446</td>\n",
       "      <td>0.01976</td>\n",
       "    </tr>\n",
       "    <tr>\n",
       "      <th>4</th>\n",
       "      <td>-0.11264</td>\n",
       "      <td>-0.09152</td>\n",
       "      <td>-0.07744</td>\n",
       "      <td>-0.04224</td>\n",
       "      <td>-0.00704</td>\n",
       "      <td>-0.00704</td>\n",
       "      <td>0.03520</td>\n",
       "      <td>0.07040</td>\n",
       "      <td>0.08448</td>\n",
       "      <td>0.11968</td>\n",
       "      <td>...</td>\n",
       "      <td>-0.13376</td>\n",
       "      <td>-0.15488</td>\n",
       "      <td>-0.15488</td>\n",
       "      <td>-0.16192</td>\n",
       "      <td>-0.17600</td>\n",
       "      <td>-0.11968</td>\n",
       "      <td>-0.16192</td>\n",
       "      <td>-0.13376</td>\n",
       "      <td>-0.14784</td>\n",
       "      <td>-0.14784</td>\n",
       "    </tr>\n",
       "    <tr>\n",
       "      <th>5</th>\n",
       "      <td>-0.15314</td>\n",
       "      <td>-0.10374</td>\n",
       "      <td>-0.04940</td>\n",
       "      <td>0.03952</td>\n",
       "      <td>0.01976</td>\n",
       "      <td>0.04940</td>\n",
       "      <td>-0.05928</td>\n",
       "      <td>-0.00494</td>\n",
       "      <td>0.25688</td>\n",
       "      <td>0.97812</td>\n",
       "      <td>...</td>\n",
       "      <td>-0.13338</td>\n",
       "      <td>-0.20254</td>\n",
       "      <td>-0.18772</td>\n",
       "      <td>-0.21736</td>\n",
       "      <td>-0.17784</td>\n",
       "      <td>-0.14326</td>\n",
       "      <td>-0.13832</td>\n",
       "      <td>-0.14820</td>\n",
       "      <td>-0.13338</td>\n",
       "      <td>-0.12844</td>\n",
       "    </tr>\n",
       "    <tr>\n",
       "      <th>6</th>\n",
       "      <td>-0.05391</td>\n",
       "      <td>-0.06589</td>\n",
       "      <td>-0.08386</td>\n",
       "      <td>-0.04792</td>\n",
       "      <td>-0.06589</td>\n",
       "      <td>-0.07787</td>\n",
       "      <td>-0.07188</td>\n",
       "      <td>-0.09584</td>\n",
       "      <td>-0.02995</td>\n",
       "      <td>-0.05391</td>\n",
       "      <td>...</td>\n",
       "      <td>-0.04193</td>\n",
       "      <td>0.07188</td>\n",
       "      <td>0.11381</td>\n",
       "      <td>0.11980</td>\n",
       "      <td>0.19767</td>\n",
       "      <td>0.22163</td>\n",
       "      <td>0.10782</td>\n",
       "      <td>0.09584</td>\n",
       "      <td>0.11381</td>\n",
       "      <td>0.09584</td>\n",
       "    </tr>\n",
       "    <tr>\n",
       "      <th>7</th>\n",
       "      <td>0.12844</td>\n",
       "      <td>0.12844</td>\n",
       "      <td>0.16302</td>\n",
       "      <td>0.17290</td>\n",
       "      <td>0.16796</td>\n",
       "      <td>0.15314</td>\n",
       "      <td>0.17784</td>\n",
       "      <td>0.15314</td>\n",
       "      <td>0.12844</td>\n",
       "      <td>0.14820</td>\n",
       "      <td>...</td>\n",
       "      <td>-0.06422</td>\n",
       "      <td>-0.06916</td>\n",
       "      <td>-0.06422</td>\n",
       "      <td>-0.05928</td>\n",
       "      <td>-0.08398</td>\n",
       "      <td>-0.07904</td>\n",
       "      <td>-0.09880</td>\n",
       "      <td>-0.10868</td>\n",
       "      <td>-0.09386</td>\n",
       "      <td>-0.08398</td>\n",
       "    </tr>\n",
       "    <tr>\n",
       "      <th>8</th>\n",
       "      <td>-0.08398</td>\n",
       "      <td>-0.08398</td>\n",
       "      <td>-0.06916</td>\n",
       "      <td>-0.05928</td>\n",
       "      <td>-0.06422</td>\n",
       "      <td>-0.06916</td>\n",
       "      <td>-0.06916</td>\n",
       "      <td>-0.08398</td>\n",
       "      <td>-0.08892</td>\n",
       "      <td>0.06422</td>\n",
       "      <td>...</td>\n",
       "      <td>-0.11362</td>\n",
       "      <td>-0.12350</td>\n",
       "      <td>-0.12844</td>\n",
       "      <td>-0.10868</td>\n",
       "      <td>-0.12350</td>\n",
       "      <td>-0.11362</td>\n",
       "      <td>-0.06916</td>\n",
       "      <td>-0.06422</td>\n",
       "      <td>-0.04940</td>\n",
       "      <td>-0.01482</td>\n",
       "    </tr>\n",
       "    <tr>\n",
       "      <th>9</th>\n",
       "      <td>-0.05928</td>\n",
       "      <td>-0.04446</td>\n",
       "      <td>-0.05434</td>\n",
       "      <td>-0.05928</td>\n",
       "      <td>-0.04940</td>\n",
       "      <td>-0.03458</td>\n",
       "      <td>-0.03458</td>\n",
       "      <td>-0.04446</td>\n",
       "      <td>-0.05928</td>\n",
       "      <td>-0.02964</td>\n",
       "      <td>...</td>\n",
       "      <td>-0.20254</td>\n",
       "      <td>-0.22724</td>\n",
       "      <td>-0.22724</td>\n",
       "      <td>-0.13832</td>\n",
       "      <td>-0.13832</td>\n",
       "      <td>-0.14326</td>\n",
       "      <td>-0.12844</td>\n",
       "      <td>-0.10868</td>\n",
       "      <td>-0.10868</td>\n",
       "      <td>-0.09386</td>\n",
       "    </tr>\n",
       "    <tr>\n",
       "      <th>10</th>\n",
       "      <td>0.00988</td>\n",
       "      <td>0.00000</td>\n",
       "      <td>0.00988</td>\n",
       "      <td>0.01482</td>\n",
       "      <td>0.02470</td>\n",
       "      <td>0.02964</td>\n",
       "      <td>0.03458</td>\n",
       "      <td>0.02964</td>\n",
       "      <td>0.02470</td>\n",
       "      <td>0.02964</td>\n",
       "      <td>...</td>\n",
       "      <td>-0.03458</td>\n",
       "      <td>-0.03952</td>\n",
       "      <td>-0.02964</td>\n",
       "      <td>-0.02964</td>\n",
       "      <td>-0.01976</td>\n",
       "      <td>-0.02470</td>\n",
       "      <td>-0.04446</td>\n",
       "      <td>0.10868</td>\n",
       "      <td>0.42484</td>\n",
       "      <td>0.71136</td>\n",
       "    </tr>\n",
       "    <tr>\n",
       "      <th>11</th>\n",
       "      <td>-0.12240</td>\n",
       "      <td>-0.13260</td>\n",
       "      <td>-0.13260</td>\n",
       "      <td>-0.12750</td>\n",
       "      <td>-0.14790</td>\n",
       "      <td>-0.19380</td>\n",
       "      <td>-0.20400</td>\n",
       "      <td>-0.24990</td>\n",
       "      <td>-0.28560</td>\n",
       "      <td>-0.29580</td>\n",
       "      <td>...</td>\n",
       "      <td>-0.12750</td>\n",
       "      <td>-0.12750</td>\n",
       "      <td>-0.13260</td>\n",
       "      <td>-0.10710</td>\n",
       "      <td>-0.11730</td>\n",
       "      <td>-0.11730</td>\n",
       "      <td>-0.12240</td>\n",
       "      <td>-0.14790</td>\n",
       "      <td>-0.14280</td>\n",
       "      <td>-0.14280</td>\n",
       "    </tr>\n",
       "    <tr>\n",
       "      <th>12</th>\n",
       "      <td>-0.03425</td>\n",
       "      <td>-0.03425</td>\n",
       "      <td>-0.02055</td>\n",
       "      <td>-0.01370</td>\n",
       "      <td>-0.01370</td>\n",
       "      <td>-0.04110</td>\n",
       "      <td>-0.02055</td>\n",
       "      <td>-0.05480</td>\n",
       "      <td>0.00000</td>\n",
       "      <td>-0.02740</td>\n",
       "      <td>...</td>\n",
       "      <td>-0.02055</td>\n",
       "      <td>-0.02740</td>\n",
       "      <td>-0.03425</td>\n",
       "      <td>-0.04110</td>\n",
       "      <td>-0.03425</td>\n",
       "      <td>-0.02740</td>\n",
       "      <td>-0.02740</td>\n",
       "      <td>-0.02740</td>\n",
       "      <td>-0.01370</td>\n",
       "      <td>-0.02740</td>\n",
       "    </tr>\n",
       "    <tr>\n",
       "      <th>13</th>\n",
       "      <td>-0.10868</td>\n",
       "      <td>-0.11856</td>\n",
       "      <td>-0.16302</td>\n",
       "      <td>-0.13832</td>\n",
       "      <td>-0.10868</td>\n",
       "      <td>-0.13338</td>\n",
       "      <td>-0.12844</td>\n",
       "      <td>-0.11856</td>\n",
       "      <td>-0.11856</td>\n",
       "      <td>-0.06916</td>\n",
       "      <td>...</td>\n",
       "      <td>-0.09880</td>\n",
       "      <td>-0.11362</td>\n",
       "      <td>-0.14820</td>\n",
       "      <td>-0.13338</td>\n",
       "      <td>-0.11362</td>\n",
       "      <td>-0.10374</td>\n",
       "      <td>-0.11856</td>\n",
       "      <td>-0.08892</td>\n",
       "      <td>-0.08398</td>\n",
       "      <td>-0.09880</td>\n",
       "    </tr>\n",
       "    <tr>\n",
       "      <th>14</th>\n",
       "      <td>-0.07137</td>\n",
       "      <td>-0.01647</td>\n",
       "      <td>-0.01098</td>\n",
       "      <td>0.01098</td>\n",
       "      <td>-0.04392</td>\n",
       "      <td>-0.05490</td>\n",
       "      <td>-0.06039</td>\n",
       "      <td>-0.05490</td>\n",
       "      <td>-0.08784</td>\n",
       "      <td>-0.04941</td>\n",
       "      <td>...</td>\n",
       "      <td>-0.04392</td>\n",
       "      <td>0.04941</td>\n",
       "      <td>0.08784</td>\n",
       "      <td>0.08784</td>\n",
       "      <td>0.06588</td>\n",
       "      <td>0.06588</td>\n",
       "      <td>0.04941</td>\n",
       "      <td>0.07137</td>\n",
       "      <td>0.04392</td>\n",
       "      <td>0.00000</td>\n",
       "    </tr>\n",
       "  </tbody>\n",
       "</table>\n",
       "<p>15 rows × 640 columns</p>\n",
       "</div>"
      ],
      "text/plain": [
       "    channel_0_0  channel_0_1  channel_0_2  channel_0_3  channel_0_4  \\\n",
       "0       0.41990      0.35568      0.25688      0.18278      0.12844   \n",
       "1      -0.02470     -0.01976     -0.03952     -0.03458     -0.03458   \n",
       "2      -0.02964      0.01482      0.00988      0.04446      0.05928   \n",
       "3      -0.06422     -0.04446     -0.06422     -0.08398     -0.08892   \n",
       "4      -0.11264     -0.09152     -0.07744     -0.04224     -0.00704   \n",
       "5      -0.15314     -0.10374     -0.04940      0.03952      0.01976   \n",
       "6      -0.05391     -0.06589     -0.08386     -0.04792     -0.06589   \n",
       "7       0.12844      0.12844      0.16302      0.17290      0.16796   \n",
       "8      -0.08398     -0.08398     -0.06916     -0.05928     -0.06422   \n",
       "9      -0.05928     -0.04446     -0.05434     -0.05928     -0.04940   \n",
       "10      0.00988      0.00000      0.00988      0.01482      0.02470   \n",
       "11     -0.12240     -0.13260     -0.13260     -0.12750     -0.14790   \n",
       "12     -0.03425     -0.03425     -0.02055     -0.01370     -0.01370   \n",
       "13     -0.10868     -0.11856     -0.16302     -0.13832     -0.10868   \n",
       "14     -0.07137     -0.01647     -0.01098      0.01098     -0.04392   \n",
       "\n",
       "    channel_0_5  channel_0_6  channel_0_7  channel_0_8  channel_0_9  \\\n",
       "0       0.06916      0.02470      0.00000     -0.00494     -0.00988   \n",
       "1      -0.03952     -0.04940     -0.03458     -0.03458     -0.04940   \n",
       "2       0.07904      0.09386      0.11856      0.13338      0.14820   \n",
       "3      -0.12350     -0.08892     -0.10374     -0.06422     -0.09386   \n",
       "4      -0.00704      0.03520      0.07040      0.08448      0.11968   \n",
       "5       0.04940     -0.05928     -0.00494      0.25688      0.97812   \n",
       "6      -0.07787     -0.07188     -0.09584     -0.02995     -0.05391   \n",
       "7       0.15314      0.17784      0.15314      0.12844      0.14820   \n",
       "8      -0.06916     -0.06916     -0.08398     -0.08892      0.06422   \n",
       "9      -0.03458     -0.03458     -0.04446     -0.05928     -0.02964   \n",
       "10      0.02964      0.03458      0.02964      0.02470      0.02964   \n",
       "11     -0.19380     -0.20400     -0.24990     -0.28560     -0.29580   \n",
       "12     -0.04110     -0.02055     -0.05480      0.00000     -0.02740   \n",
       "13     -0.13338     -0.12844     -0.11856     -0.11856     -0.06916   \n",
       "14     -0.05490     -0.06039     -0.05490     -0.08784     -0.04941   \n",
       "\n",
       "        ...        channel_0_630  channel_0_631  channel_0_632  channel_0_633  \\\n",
       "0       ...              0.00494        0.33592        0.87932        0.85462   \n",
       "1       ...             -0.08398       -0.09386       -0.09386       -0.06916   \n",
       "2       ...              0.05928        0.08398        0.08892        0.12844   \n",
       "3       ...             -0.18278       -0.11856       -0.14326       -0.11362   \n",
       "4       ...             -0.13376       -0.15488       -0.15488       -0.16192   \n",
       "5       ...             -0.13338       -0.20254       -0.18772       -0.21736   \n",
       "6       ...             -0.04193        0.07188        0.11381        0.11980   \n",
       "7       ...             -0.06422       -0.06916       -0.06422       -0.05928   \n",
       "8       ...             -0.11362       -0.12350       -0.12844       -0.10868   \n",
       "9       ...             -0.20254       -0.22724       -0.22724       -0.13832   \n",
       "10      ...             -0.03458       -0.03952       -0.02964       -0.02964   \n",
       "11      ...             -0.12750       -0.12750       -0.13260       -0.10710   \n",
       "12      ...             -0.02055       -0.02740       -0.03425       -0.04110   \n",
       "13      ...             -0.09880       -0.11362       -0.14820       -0.13338   \n",
       "14      ...             -0.04392        0.04941        0.08784        0.08784   \n",
       "\n",
       "    channel_0_634  channel_0_635  channel_0_636  channel_0_637  channel_0_638  \\\n",
       "0         0.30134       -0.01482        0.00000        0.04940        0.02964   \n",
       "1        -0.09880       -0.07904       -0.08398       -0.07904       -0.09880   \n",
       "2         0.12350        0.12350        0.10868        0.07904        0.04940   \n",
       "3        -0.11856       -0.05434       -0.08398       -0.03952       -0.04446   \n",
       "4        -0.17600       -0.11968       -0.16192       -0.13376       -0.14784   \n",
       "5        -0.17784       -0.14326       -0.13832       -0.14820       -0.13338   \n",
       "6         0.19767        0.22163        0.10782        0.09584        0.11381   \n",
       "7        -0.08398       -0.07904       -0.09880       -0.10868       -0.09386   \n",
       "8        -0.12350       -0.11362       -0.06916       -0.06422       -0.04940   \n",
       "9        -0.13832       -0.14326       -0.12844       -0.10868       -0.10868   \n",
       "10       -0.01976       -0.02470       -0.04446        0.10868        0.42484   \n",
       "11       -0.11730       -0.11730       -0.12240       -0.14790       -0.14280   \n",
       "12       -0.03425       -0.02740       -0.02740       -0.02740       -0.01370   \n",
       "13       -0.11362       -0.10374       -0.11856       -0.08892       -0.08398   \n",
       "14        0.06588        0.06588        0.04941        0.07137        0.04392   \n",
       "\n",
       "    channel_0_639  \n",
       "0         0.00000  \n",
       "1        -0.07904  \n",
       "2         0.02470  \n",
       "3         0.01976  \n",
       "4        -0.14784  \n",
       "5        -0.12844  \n",
       "6         0.09584  \n",
       "7        -0.08398  \n",
       "8        -0.01482  \n",
       "9        -0.09386  \n",
       "10        0.71136  \n",
       "11       -0.14280  \n",
       "12       -0.02740  \n",
       "13       -0.09880  \n",
       "14        0.00000  \n",
       "\n",
       "[15 rows x 640 columns]"
      ]
     },
     "execution_count": 44,
     "metadata": {},
     "output_type": "execute_result"
    }
   ],
   "source": [
    "ECG"
   ]
  },
  {
   "cell_type": "code",
   "execution_count": 63,
   "metadata": {},
   "outputs": [
    {
     "data": {
      "text/plain": [
       "array([[ 0.4199 ,  0.35568,  0.25688, ...,  0.0494 ,  0.02964,  0.     ],\n",
       "       [-0.0247 , -0.01976, -0.03952, ..., -0.07904, -0.0988 , -0.07904],\n",
       "       [-0.02964,  0.01482,  0.00988, ...,  0.07904,  0.0494 ,  0.0247 ],\n",
       "       ...,\n",
       "       [-0.03425, -0.03425, -0.02055, ..., -0.0274 , -0.0137 , -0.0274 ],\n",
       "       [-0.10868, -0.11856, -0.16302, ..., -0.08892, -0.08398, -0.0988 ],\n",
       "       [-0.07137, -0.01647, -0.01098, ...,  0.07137,  0.04392,  0.     ]])"
      ]
     },
     "execution_count": 63,
     "metadata": {},
     "output_type": "execute_result"
    }
   ],
   "source": [
    "series = list()\n",
    "for i in range(len(ECG)):\n",
    "    series.append(ECG.iloc[i])\n",
    "series = np.array(series)\n",
    "#series = TimeSeriesResampler(sz=150).fit_transform(series)\n",
    "series"
   ]
  },
  {
   "cell_type": "code",
   "execution_count": 68,
   "metadata": {},
   "outputs": [
    {
     "name": "stdout",
     "output_type": "stream",
     "text": [
      "Euclidean k-means\n",
      "44.345 --> 31.942 --> 31.942 --> \n"
     ]
    },
    {
     "data": {
      "image/png": "[encoded data removed]",
      "text/plain": [
       "<Figure size 432x288 with 3 Axes>"
      ]
     },
     "metadata": {},
     "output_type": "display_data"
    }
   ],
   "source": [
    "print(\"Euclidean k-means\")\n",
    "km = TimeSeriesKMeans(n_clusters=3, verbose=True, random_state=seed)\n",
    "y_pred = km.fit_predict(series)\n",
    "plt.figure()\n",
    "for yi in range(3):\n",
    "    plt.subplot(3, 3, yi + 1)\n",
    "    for xx in series[y_pred == yi]:\n",
    "        plt.plot(xx.ravel(), \"y-\", alpha=.2)\n",
    "    plt.plot(km.cluster_centers_[yi].ravel(), \"r-\")\n",
    "    plt.xlim(0, 600)\n",
    "    plt.ylim(-1, 3)\n",
    "    if yi == 1:\n",
    "        plt.title(\"Euclidean $k$-means\")"
   ]
  },
  {
   "cell_type": "code",
   "execution_count": 69,
   "metadata": {},
   "outputs": [
    {
     "name": "stdout",
     "output_type": "stream",
     "text": [
      "DBA k-means\n",
      "Init 1\n"
     ]
    },
    {
     "ename": "KeyboardInterrupt",
     "evalue": "",
     "output_type": "error",
     "traceback": [
      "\u001b[1;31m---------------------------------------------------------------------------\u001b[0m",
      "\u001b[1;31mKeyboardInterrupt\u001b[0m                         Traceback (most recent call last)",
      "\u001b[1;32m<ipython-input-69-6001ef8134bf>\u001b[0m in \u001b[0;36m<module>\u001b[1;34m()\u001b[0m\n\u001b[0;32m      2\u001b[0m \u001b[0mprint\u001b[0m\u001b[1;33m(\u001b[0m\u001b[1;34m\"DBA k-means\"\u001b[0m\u001b[1;33m)\u001b[0m\u001b[1;33m\u001b[0m\u001b[0m\n\u001b[0;32m      3\u001b[0m \u001b[0mdba_km\u001b[0m \u001b[1;33m=\u001b[0m \u001b[0mTimeSeriesKMeans\u001b[0m\u001b[1;33m(\u001b[0m\u001b[0mn_clusters\u001b[0m\u001b[1;33m=\u001b[0m\u001b[1;36m3\u001b[0m\u001b[1;33m,\u001b[0m \u001b[0mn_init\u001b[0m\u001b[1;33m=\u001b[0m\u001b[1;36m2\u001b[0m\u001b[1;33m,\u001b[0m \u001b[0mmetric\u001b[0m\u001b[1;33m=\u001b[0m\u001b[1;34m\"dtw\"\u001b[0m\u001b[1;33m,\u001b[0m \u001b[0mverbose\u001b[0m\u001b[1;33m=\u001b[0m\u001b[1;32mTrue\u001b[0m\u001b[1;33m,\u001b[0m \u001b[0mmax_iter_barycenter\u001b[0m\u001b[1;33m=\u001b[0m\u001b[1;36m10\u001b[0m\u001b[1;33m,\u001b[0m \u001b[0mrandom_state\u001b[0m\u001b[1;33m=\u001b[0m\u001b[0mseed\u001b[0m\u001b[1;33m)\u001b[0m\u001b[1;33m\u001b[0m\u001b[0m\n\u001b[1;32m----> 4\u001b[1;33m \u001b[0my_pred\u001b[0m \u001b[1;33m=\u001b[0m \u001b[0mdba_km\u001b[0m\u001b[1;33m.\u001b[0m\u001b[0mfit_predict\u001b[0m\u001b[1;33m(\u001b[0m\u001b[0mseries\u001b[0m\u001b[1;33m)\u001b[0m\u001b[1;33m\u001b[0m\u001b[0m\n\u001b[0m\u001b[0;32m      5\u001b[0m \u001b[1;32mfor\u001b[0m \u001b[0myi\u001b[0m \u001b[1;32min\u001b[0m \u001b[0mrange\u001b[0m\u001b[1;33m(\u001b[0m\u001b[1;36m3\u001b[0m\u001b[1;33m)\u001b[0m\u001b[1;33m:\u001b[0m\u001b[1;33m\u001b[0m\u001b[0m\n\u001b[0;32m      6\u001b[0m     \u001b[0mplt\u001b[0m\u001b[1;33m.\u001b[0m\u001b[0msubplot\u001b[0m\u001b[1;33m(\u001b[0m\u001b[1;36m3\u001b[0m\u001b[1;33m,\u001b[0m \u001b[1;36m3\u001b[0m\u001b[1;33m,\u001b[0m \u001b[1;36m1\u001b[0m \u001b[1;33m+\u001b[0m \u001b[0myi\u001b[0m\u001b[1;33m)\u001b[0m\u001b[1;33m\u001b[0m\u001b[0m\n",
      "\u001b[1;32m~\\Anaconda3\\lib\\site-packages\\tslearn\\clustering.py\u001b[0m in \u001b[0;36mfit_predict\u001b[1;34m(self, X, y)\u001b[0m\n\u001b[0;32m    582\u001b[0m             \u001b[0mIndex\u001b[0m \u001b[0mof\u001b[0m \u001b[0mthe\u001b[0m \u001b[0mcluster\u001b[0m \u001b[0meach\u001b[0m \u001b[0msample\u001b[0m \u001b[0mbelongs\u001b[0m \u001b[0mto\u001b[0m\u001b[1;33m.\u001b[0m\u001b[1;33m\u001b[0m\u001b[0m\n\u001b[0;32m    583\u001b[0m         \"\"\"\n\u001b[1;32m--> 584\u001b[1;33m         \u001b[1;32mreturn\u001b[0m \u001b[0mself\u001b[0m\u001b[1;33m.\u001b[0m\u001b[0mfit\u001b[0m\u001b[1;33m(\u001b[0m\u001b[0mX\u001b[0m\u001b[1;33m,\u001b[0m \u001b[0my\u001b[0m\u001b[1;33m)\u001b[0m\u001b[1;33m.\u001b[0m\u001b[0mlabels_\u001b[0m\u001b[1;33m\u001b[0m\u001b[0m\n\u001b[0m\u001b[0;32m    585\u001b[0m \u001b[1;33m\u001b[0m\u001b[0m\n\u001b[0;32m    586\u001b[0m     \u001b[1;32mdef\u001b[0m \u001b[0mpredict\u001b[0m\u001b[1;33m(\u001b[0m\u001b[0mself\u001b[0m\u001b[1;33m,\u001b[0m \u001b[0mX\u001b[0m\u001b[1;33m)\u001b[0m\u001b[1;33m:\u001b[0m\u001b[1;33m\u001b[0m\u001b[0m\n",
      "\u001b[1;32m~\\Anaconda3\\lib\\site-packages\\tslearn\\clustering.py\u001b[0m in \u001b[0;36mfit\u001b[1;34m(self, X, y)\u001b[0m\n\u001b[0;32m    555\u001b[0m                     \u001b[0mprint\u001b[0m\u001b[1;33m(\u001b[0m\u001b[1;34m\"Init %d\"\u001b[0m \u001b[1;33m%\u001b[0m \u001b[1;33m(\u001b[0m\u001b[0mn_successful\u001b[0m \u001b[1;33m+\u001b[0m \u001b[1;36m1\u001b[0m\u001b[1;33m)\u001b[0m\u001b[1;33m)\u001b[0m\u001b[1;33m\u001b[0m\u001b[0m\n\u001b[0;32m    556\u001b[0m                 \u001b[0mn_attempts\u001b[0m \u001b[1;33m+=\u001b[0m \u001b[1;36m1\u001b[0m\u001b[1;33m\u001b[0m\u001b[0m\n\u001b[1;32m--> 557\u001b[1;33m                 \u001b[0mself\u001b[0m\u001b[1;33m.\u001b[0m\u001b[0m_fit_one_init\u001b[0m\u001b[1;33m(\u001b[0m\u001b[0mX_\u001b[0m\u001b[1;33m,\u001b[0m \u001b[0mx_squared_norms\u001b[0m\u001b[1;33m,\u001b[0m \u001b[0mrs\u001b[0m\u001b[1;33m)\u001b[0m\u001b[1;33m\u001b[0m\u001b[0m\n\u001b[0m\u001b[0;32m    558\u001b[0m                 \u001b[1;32mif\u001b[0m \u001b[0mself\u001b[0m\u001b[1;33m.\u001b[0m\u001b[0minertia_\u001b[0m \u001b[1;33m<\u001b[0m \u001b[0mmin_inertia\u001b[0m\u001b[1;33m:\u001b[0m\u001b[1;33m\u001b[0m\u001b[0m\n\u001b[0;32m    559\u001b[0m                     \u001b[0mbest_correct_centroids\u001b[0m \u001b[1;33m=\u001b[0m \u001b[0mself\u001b[0m\u001b[1;33m.\u001b[0m\u001b[0mcluster_centers_\u001b[0m\u001b[1;33m.\u001b[0m\u001b[0mcopy\u001b[0m\u001b[1;33m(\u001b[0m\u001b[1;33m)\u001b[0m\u001b[1;33m\u001b[0m\u001b[0m\n",
      "\u001b[1;32m~\\Anaconda3\\lib\\site-packages\\tslearn\\clustering.py\u001b[0m in \u001b[0;36m_fit_one_init\u001b[1;34m(self, X, x_squared_norms, rs)\u001b[0m\n\u001b[0;32m    485\u001b[0m \u001b[1;33m\u001b[0m\u001b[0m\n\u001b[0;32m    486\u001b[0m         \u001b[1;32mfor\u001b[0m \u001b[0mit\u001b[0m \u001b[1;32min\u001b[0m \u001b[0mrange\u001b[0m\u001b[1;33m(\u001b[0m\u001b[0mself\u001b[0m\u001b[1;33m.\u001b[0m\u001b[0mmax_iter\u001b[0m\u001b[1;33m)\u001b[0m\u001b[1;33m:\u001b[0m\u001b[1;33m\u001b[0m\u001b[0m\n\u001b[1;32m--> 487\u001b[1;33m             \u001b[0mself\u001b[0m\u001b[1;33m.\u001b[0m\u001b[0m_assign\u001b[0m\u001b[1;33m(\u001b[0m\u001b[0mX\u001b[0m\u001b[1;33m)\u001b[0m\u001b[1;33m\u001b[0m\u001b[0m\n\u001b[0m\u001b[0;32m    488\u001b[0m             \u001b[1;32mif\u001b[0m \u001b[0mself\u001b[0m\u001b[1;33m.\u001b[0m\u001b[0mverbose\u001b[0m\u001b[1;33m:\u001b[0m\u001b[1;33m\u001b[0m\u001b[0m\n\u001b[0;32m    489\u001b[0m                 \u001b[0mprint\u001b[0m\u001b[1;33m(\u001b[0m\u001b[1;34m\"%.3f\"\u001b[0m \u001b[1;33m%\u001b[0m \u001b[0mself\u001b[0m\u001b[1;33m.\u001b[0m\u001b[0minertia_\u001b[0m\u001b[1;33m,\u001b[0m \u001b[0mend\u001b[0m\u001b[1;33m=\u001b[0m\u001b[1;34m\" --> \"\u001b[0m\u001b[1;33m)\u001b[0m\u001b[1;33m\u001b[0m\u001b[0m\n",
      "\u001b[1;32m~\\Anaconda3\\lib\\site-packages\\tslearn\\clustering.py\u001b[0m in \u001b[0;36m_assign\u001b[1;34m(self, X, update_class_attributes)\u001b[0m\n\u001b[0;32m    503\u001b[0m                           metric=\"euclidean\")\n\u001b[0;32m    504\u001b[0m         \u001b[1;32melif\u001b[0m \u001b[0mself\u001b[0m\u001b[1;33m.\u001b[0m\u001b[0mmetric\u001b[0m \u001b[1;33m==\u001b[0m \u001b[1;34m\"dtw\"\u001b[0m\u001b[1;33m:\u001b[0m\u001b[1;33m\u001b[0m\u001b[0m\n\u001b[1;32m--> 505\u001b[1;33m             \u001b[0mdists\u001b[0m \u001b[1;33m=\u001b[0m \u001b[0mcdist_dtw\u001b[0m\u001b[1;33m(\u001b[0m\u001b[0mX\u001b[0m\u001b[1;33m,\u001b[0m \u001b[0mself\u001b[0m\u001b[1;33m.\u001b[0m\u001b[0mcluster_centers_\u001b[0m\u001b[1;33m)\u001b[0m\u001b[1;33m\u001b[0m\u001b[0m\n\u001b[0m\u001b[0;32m    506\u001b[0m         \u001b[1;32melif\u001b[0m \u001b[0mself\u001b[0m\u001b[1;33m.\u001b[0m\u001b[0mmetric\u001b[0m \u001b[1;33m==\u001b[0m \u001b[1;34m\"softdtw\"\u001b[0m\u001b[1;33m:\u001b[0m\u001b[1;33m\u001b[0m\u001b[0m\n\u001b[0;32m    507\u001b[0m             \u001b[0mdists\u001b[0m \u001b[1;33m=\u001b[0m \u001b[0mcdist_soft_dtw\u001b[0m\u001b[1;33m(\u001b[0m\u001b[0mX\u001b[0m\u001b[1;33m,\u001b[0m \u001b[0mself\u001b[0m\u001b[1;33m.\u001b[0m\u001b[0mcluster_centers_\u001b[0m\u001b[1;33m,\u001b[0m \u001b[0mgamma\u001b[0m\u001b[1;33m=\u001b[0m\u001b[0mself\u001b[0m\u001b[1;33m.\u001b[0m\u001b[0mgamma_sdtw\u001b[0m\u001b[1;33m)\u001b[0m\u001b[1;33m\u001b[0m\u001b[0m\n",
      "\u001b[1;32m~\\Anaconda3\\lib\\site-packages\\tslearn\\metrics.py\u001b[0m in \u001b[0;36mcdist_dtw\u001b[1;34m(dataset1, dataset2, global_constraint, sakoe_chiba_radius)\u001b[0m\n\u001b[0;32m    269\u001b[0m     \u001b[1;32melif\u001b[0m \u001b[0mglobal_constraint\u001b[0m \u001b[1;33m==\u001b[0m \u001b[1;34m\"itakura\"\u001b[0m\u001b[1;33m:\u001b[0m\u001b[1;33m\u001b[0m\u001b[0m\n\u001b[0;32m    270\u001b[0m         \u001b[1;32mreturn\u001b[0m \u001b[0mcycdist_dtw\u001b[0m\u001b[1;33m(\u001b[0m\u001b[0mdataset1\u001b[0m\u001b[1;33m,\u001b[0m \u001b[0mdataset2\u001b[0m\u001b[1;33m,\u001b[0m \u001b[0mself_similarity\u001b[0m\u001b[1;33m=\u001b[0m\u001b[0mself_similarity\u001b[0m\u001b[1;33m,\u001b[0m \u001b[0mmask\u001b[0m\u001b[1;33m=\u001b[0m\u001b[0mitakura_mask\u001b[0m\u001b[1;33m(\u001b[0m\u001b[0msz1\u001b[0m\u001b[1;33m,\u001b[0m \u001b[0msz2\u001b[0m\u001b[1;33m)\u001b[0m\u001b[1;33m)\u001b[0m\u001b[1;33m\u001b[0m\u001b[0m\n\u001b[1;32m--> 271\u001b[1;33m     \u001b[1;32mreturn\u001b[0m \u001b[0mcycdist_dtw\u001b[0m\u001b[1;33m(\u001b[0m\u001b[0mdataset1\u001b[0m\u001b[1;33m,\u001b[0m \u001b[0mdataset2\u001b[0m\u001b[1;33m,\u001b[0m \u001b[0mself_similarity\u001b[0m\u001b[1;33m=\u001b[0m\u001b[0mself_similarity\u001b[0m\u001b[1;33m,\u001b[0m \u001b[0mmask\u001b[0m\u001b[1;33m=\u001b[0m\u001b[0mnumpy\u001b[0m\u001b[1;33m.\u001b[0m\u001b[0mzeros\u001b[0m\u001b[1;33m(\u001b[0m\u001b[1;33m(\u001b[0m\u001b[0msz1\u001b[0m\u001b[1;33m,\u001b[0m \u001b[0msz2\u001b[0m\u001b[1;33m)\u001b[0m\u001b[1;33m)\u001b[0m\u001b[1;33m)\u001b[0m\u001b[1;33m\u001b[0m\u001b[0m\n\u001b[0m\u001b[0;32m    272\u001b[0m \u001b[1;33m\u001b[0m\u001b[0m\n\u001b[0;32m    273\u001b[0m \u001b[1;33m\u001b[0m\u001b[0m\n",
      "\u001b[1;32mtslearn/cydtw.pyx\u001b[0m in \u001b[0;36mtslearn.cydtw.cdist_dtw\u001b[1;34m()\u001b[0m\n",
      "\u001b[1;32mtslearn/cydtw.pyx\u001b[0m in \u001b[0;36mtslearn.cydtw.dtw\u001b[1;34m()\u001b[0m\n",
      "\u001b[1;32mtslearn/cydtw.pyx\u001b[0m in \u001b[0;36mtslearn.cydtw.ts_size\u001b[1;34m()\u001b[0m\n",
      "\u001b[1;32m~\\Anaconda3\\lib\\site-packages\\numpy\\core\\fromnumeric.py\u001b[0m in \u001b[0;36many\u001b[1;34m(a, axis, out, keepdims)\u001b[0m\n\u001b[0;32m   2012\u001b[0m \u001b[1;33m\u001b[0m\u001b[0m\n\u001b[0;32m   2013\u001b[0m     \"\"\"\n\u001b[1;32m-> 2014\u001b[1;33m     \u001b[0marr\u001b[0m \u001b[1;33m=\u001b[0m \u001b[0masanyarray\u001b[0m\u001b[1;33m(\u001b[0m\u001b[0ma\u001b[0m\u001b[1;33m)\u001b[0m\u001b[1;33m\u001b[0m\u001b[0m\n\u001b[0m\u001b[0;32m   2015\u001b[0m     \u001b[0mkwargs\u001b[0m \u001b[1;33m=\u001b[0m \u001b[1;33m{\u001b[0m\u001b[1;33m}\u001b[0m\u001b[1;33m\u001b[0m\u001b[0m\n\u001b[0;32m   2016\u001b[0m     \u001b[1;32mif\u001b[0m \u001b[0mkeepdims\u001b[0m \u001b[1;32mis\u001b[0m \u001b[1;32mnot\u001b[0m \u001b[0mnp\u001b[0m\u001b[1;33m.\u001b[0m\u001b[0m_NoValue\u001b[0m\u001b[1;33m:\u001b[0m\u001b[1;33m\u001b[0m\u001b[0m\n",
      "\u001b[1;31mKeyboardInterrupt\u001b[0m: "
     ]
    }
   ],
   "source": [
    "# DBA-k-means\n",
    "print(\"DBA k-means\")\n",
    "dba_km = TimeSeriesKMeans(n_clusters=3, n_init=2, metric=\"dtw\", verbose=True, max_iter_barycenter=10, random_state=seed)\n",
    "y_pred = dba_km.fit_predict(series)\n",
    "for yi in range(3):\n",
    "    plt.subplot(3, 3, 1 + yi)\n",
    "    for xx in series[y_pred == yi]:\n",
    "        plt.plot(xx.ravel(), \"b-\", alpha=.2)\n",
    "    plt.plot(dba_km.cluster_centers_[yi].ravel(), \"r-\")\n",
    "    plt.xlim(0, 650)\n",
    "    plt.ylim(-0.4, 2)\n",
    "    if yi == 1:\n",
    "        plt.title(\"DBA $k$-means\")\n"
   ]
  },
  {
   "cell_type": "code",
   "execution_count": 72,
   "metadata": {},
   "outputs": [
    {
     "name": "stdout",
     "output_type": "stream",
     "text": [
      "Soft-DTW k-means\n",
      "100.323 --> 23.173 --> 23.632 --> 23.586 --> 23.662 --> \n"
     ]
    },
    {
     "data": {
      "image/png": "[encoded data removed]",
      "text/plain": [
       "<Figure size 432x288 with 3 Axes>"
      ]
     },
     "metadata": {},
     "output_type": "display_data"
    }
   ],
   "source": [
    "# Soft-DTW-k-means\n",
    "print(\"Soft-DTW k-means\")\n",
    "sdtw_km = TimeSeriesKMeans(n_clusters=3,max_iter=5, metric=\"softdtw\", metric_params={\"gamma_sdtw\": .01},\n",
    "                           verbose=True, random_state=seed)\n",
    "y_pred = sdtw_km.fit_predict(series) \n",
    "\n",
    "for yi in range(3):\n",
    "    plt.subplot(3, 3, 1 + yi)\n",
    "    for xx in series[y_pred == yi]:\n",
    "        plt.plot(xx.ravel(), \"k-\", alpha=.2)\n",
    "    plt.plot(sdtw_km.cluster_centers_[yi].ravel(), \"r-\")\n",
    "    plt.xlim(0, 640)\n",
    "    plt.ylim(-0.4, 2)\n",
    "    if yi == 1:\n",
    "        plt.title(\"Soft-DTW $k$-means\")"
   ]
  },
  {
   "cell_type": "code",
   "execution_count": 53,
   "metadata": {},
   "outputs": [
    {
     "name": "stdout",
     "output_type": "stream",
     "text": [
      "0     n\n",
      "1     n\n",
      "2     n\n",
      "3     n\n",
      "4     n\n",
      "5     s\n",
      "6     s\n",
      "7     s\n",
      "8     s\n",
      "9     s\n",
      "10    t\n",
      "11    t\n",
      "12    t\n",
      "13    t\n",
      "14    t\n",
      "Name: target, dtype: object\n"
     ]
    }
   ],
   "source": [
    "ECG.columns = range(ECG.shape[1])\n",
    "print (ECGI['target'])"
   ]
  },
  {
   "cell_type": "code",
   "execution_count": 68,
   "metadata": {
    "scrolled": true
   },
   "outputs": [
    {
     "data": {
      "image/png": "[encoded data removed]",
      "text/plain": [
       "<Figure size 432x288 with 1 Axes>"
      ]
     },
     "metadata": {},
     "output_type": "display_data"
    }
   ],
   "source": [
    "import pylab\n",
    "from pylab import figure as fig\n",
    "plt.plot(pd.Series(ECG.iloc[13]),color='g')\n",
    "pylab.savefig(\"typeTEcg.png\",)\n",
    "#plt.plot(pd.Series(ECG.iloc[7]))\n",
    "#plt.plot(pd.Series(ECG.iloc[12]))"
   ]
  },
  {
   "cell_type": "code",
   "execution_count": 45,
   "metadata": {},
   "outputs": [
    {
     "data": {
      "text/plain": [
       "[<matplotlib.lines.Line2D at 0x22c23637400>]"
      ]
     },
     "execution_count": 45,
     "metadata": {},
     "output_type": "execute_result"
    },
    {
     "data": {
      "image/png": "[encoded data removed]",
      "text/plain": [
       "<Figure size 432x288 with 1 Axes>"
      ]
     },
     "metadata": {},
     "output_type": "display_data"
    }
   ],
   "source": [
    "plt.plot(pd.Series(ECG.iloc[0]))"
   ]
  },
  {
   "cell_type": "code",
   "execution_count": null,
   "metadata": {},
   "outputs": [],
   "source": [
    "adiac = pd.re"
   ]
  }
 ],
 "metadata": {
  "kernelspec": {
   "display_name": "Python 3",
   "language": "python",
   "name": "python3"
  },
  "language_info": {
   "codemirror_mode": {
    "name": "ipython",
    "version": 3
   },
   "file_extension": ".py",
   "mimetype": "text/x-python",
   "name": "python",
   "nbconvert_exporter": "python",
   "pygments_lexer": "ipython3",
   "version": "3.6.5"
  }
 },
 "nbformat": 4,
 "nbformat_minor": 1
}
